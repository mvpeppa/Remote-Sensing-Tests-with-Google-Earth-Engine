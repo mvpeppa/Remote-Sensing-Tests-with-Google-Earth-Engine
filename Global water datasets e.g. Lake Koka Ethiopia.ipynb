{
 "cells": [
  {
   "cell_type": "markdown",
   "metadata": {},
   "source": [
    "## Authenticates and initialises Earth Engine\n",
    "\n",
    "To use ee and geemap, it is required to set up a Google Earth account. Make sure you follow the instructions @ https://geemap.org/installation/#earth-engine-account.\n",
    "\n",
    "Examples here follow the tutorias from https://github.com/giswqs/earthengine-py-notebooks/tree/master/Tutorials/GlobalSurfaceWater"
   ]
  },
  {
   "cell_type": "code",
   "execution_count": 1,
   "metadata": {},
   "outputs": [],
   "source": [
    "import ee\n",
    "try:\n",
    "    ee.Initialize()\n",
    "except Exception as e:\n",
    "    ee.Authenticate()\n",
    "    ee.Initialize()\n",
    "    \n",
    "import geemap"
   ]
  },
  {
   "cell_type": "markdown",
   "metadata": {},
   "source": [
    "## Add an interactive map based on a specified Region of Interest (ROI)"
   ]
  },
  {
   "cell_type": "code",
   "execution_count": 3,
   "metadata": {},
   "outputs": [
    {
     "data": {
      "application/vnd.jupyter.widget-view+json": {
       "model_id": "fae955fd1bce4207bfcd2d810638b9db",
       "version_major": 2,
       "version_minor": 0
      },
      "text/plain": [
       "Map(center=[8.393461223691679, 39.07856249999964], controls=(WidgetControl(options=['position'], widget=HBox(c…"
      ]
     },
     "metadata": {},
     "output_type": "display_data"
    }
   ],
   "source": [
    "Map = geemap.Map()\n",
    "# bottom left, top left, top right, bottom right\n",
    "roi = ee.Geometry.Polygon(\n",
    "  [[[38.988041, 8.30037],\n",
    "    [38.988041, 8.486557],\n",
    "    [39.169084, 8.486557],\n",
    "    [39.169084, 8.30037]]], None, False)\n",
    "\n",
    "Map.centerObject(ee_object=roi, zoom=12)\n",
    "Map.add_basemap(\"TERRAIN\")\n",
    "Map"
   ]
  },
  {
   "cell_type": "markdown",
   "metadata": {},
   "source": [
    "## Occurence from global dataset JRC-GSW\n",
    "\n",
    "Occurence: The frequency with which water was present between 1984-2019\n",
    "\n",
    "Check the following link https://developers.google.com/earth-engine/datasets/catalog/JRC_GSW1_2_GlobalSurfaceWater\n",
    "\n",
    "More info can be found @ https://storage.googleapis.com/global-surface-water/downloads_ancillary/DataUsersGuidev2.pdf"
   ]
  },
  {
   "cell_type": "code",
   "execution_count": 4,
   "metadata": {},
   "outputs": [],
   "source": [
    "GSW_occurrence = ee.Image('JRC/GSW1_2/GlobalSurfaceWater').select('occurrence')\n",
    "GSW_vis = {'min': 0.0,'max': 100.0, 'palette': ['ffffff', 'ffbbbb', '0000ff']};\n",
    "Map.addLayer(GSW_occurrence, GSW_vis, 'Occurrence')\n",
    "legend_keys = ['No water', '1% occurrence', '100% occurrence']\n",
    "legend_colors = ['#ffffff', '#ffbbbb', '#0000ff']\n",
    "\n",
    "Map.add_legend(legend_keys=legend_keys, legend_colors=legend_colors, position='bottomright')"
   ]
  },
  {
   "cell_type": "markdown",
   "metadata": {},
   "source": [
    "## Occurrence Change Intensity from JRC-GSW"
   ]
  },
  {
   "cell_type": "code",
   "execution_count": 5,
   "metadata": {},
   "outputs": [],
   "source": [
    "GSW_Occ_change = ee.Image('JRC/GSW1_2/GlobalSurfaceWater').select('change_norm')\n",
    "GSW_Occ_change_vis = {'min': -100.0,'max': 100.0, 'palette': ['FF0000 ', '000000', '00FF00 ']};\n",
    "Map.addLayer(GSW_Occ_change, GSW_Occ_change_vis, 'Occurrence change Intensity')\n",
    "legend_keys = ['-100% loss of occurrence', 'No change', '100% increase in occurrence']\n",
    "legend_colors = ['#FF0000', '#000000', '#00FF00']\n",
    "\n",
    "Map.add_legend(legend_keys=legend_keys, legend_colors=legend_colors, position='topright')\n"
   ]
  },
  {
   "cell_type": "markdown",
   "metadata": {},
   "source": [
    "## GLCF: Landsat Global Inland Water\n",
    "\n",
    "More info can be found @ https://developers.google.com/earth-engine/datasets/catalog/GLCF_GLS_WATER "
   ]
  },
  {
   "cell_type": "code",
   "execution_count": 6,
   "metadata": {},
   "outputs": [],
   "source": [
    "GLS_WATER = ee.ImageCollection('GLCF/GLS_WATER')\n",
    "globalwater2000 = GLS_WATER.select('water').mosaic()\n",
    "globalwater2000_Vis = {\n",
    "  'min': 1.0,\n",
    "  'max': 4.0,\n",
    "  'palette': ['FAFAFA', '00C5FF', 'DF73FF', '828282', 'CCCCCC'],\n",
    "}\n",
    "Map.addLayer(globalwater2000, globalwater2000_Vis, 'GLCF Water')"
   ]
  },
  {
   "cell_type": "markdown",
   "metadata": {},
   "source": [
    "## HydroSheds - watersheds \n",
    "\n",
    "Information can be found here:\n",
    "- https://developers.google.com/earth-engine/datasets/tags/hydrosheds\n",
    "- https://developers.google.com/earth-engine/datasets/catalog/WWF_HydroSHEDS_v1_Basins_hybas_8"
   ]
  },
  {
   "cell_type": "code",
   "execution_count": 8,
   "metadata": {},
   "outputs": [],
   "source": [
    "hydroshed_data = ee.FeatureCollection('WWF/HydroSHEDS/v1/Basins/hybas_7')\n",
    "styleParams = {'fillColor': '5885E3', 'color': '0000be', 'width': 1.0,}\n",
    "watersheds = hydroshed_data.style(**styleParams)\n",
    "Map.addLayer(watersheds, {}, 'Basins Level 7');"
   ]
  },
  {
   "cell_type": "code",
   "execution_count": 9,
   "metadata": {},
   "outputs": [],
   "source": [
    "hydroshed_data = ee.FeatureCollection('WWF/HydroSHEDS/v1/Basins/hybas_8')\n",
    "styleParams = {'fillColor': '2E85BB', 'color': '2E5D7E', 'width': 1.0,}\n",
    "watersheds = hydroshed_data.style(**styleParams)\n",
    "Map.addLayer(watersheds, {}, 'Basins Level 8');"
   ]
  },
  {
   "cell_type": "markdown",
   "metadata": {},
   "source": [
    "## HydroSheds - Elevation"
   ]
  },
  {
   "cell_type": "code",
   "execution_count": 10,
   "metadata": {},
   "outputs": [],
   "source": [
    "hydroshed_dataset = ee.Image('WWF/HydroSHEDS/03VFDEM')\n",
    "hydroshedelevation = hydroshed_dataset.select('b1')\n",
    "hydroshedelevationVis = {'min': -50.0,'max': 3000.0,'gamma': 2.0,}\n",
    "Map.addLayer(hydroshedelevation, hydroshedelevationVis, 'Elevation Void Filled')"
   ]
  },
  {
   "cell_type": "markdown",
   "metadata": {},
   "source": [
    "## ALOS landforms\n",
    "Information can be found here:\n",
    "https://developers.google.com/earth-engine/datasets/catalog/CSP_ERGo_1_0_Global_ALOS_landforms#description"
   ]
  },
  {
   "cell_type": "code",
   "execution_count": 11,
   "metadata": {},
   "outputs": [],
   "source": [
    "dataset = ee.Image('CSP/ERGo/1_0/Global/ALOS_landforms')\n",
    "landforms = dataset.select('constant')\n",
    "landformsVis = {\n",
    "  'min': 11.0,\n",
    "  'max': 42.0,\n",
    "  'palette': [\n",
    "    '141414', '383838', '808080', 'EBEB8F', 'F7D311', 'AA0000', 'D89382',\n",
    "    'DDC9C9', 'DCCDCE', '1C6330', '68AA63', 'B5C98E', 'E1F0E5', 'a975ba',\n",
    "    '6f198c'\n",
    "  ],\n",
    "}\n",
    "\n",
    "Map.addLayer(landforms, landformsVis, 'Landforms')"
   ]
  },
  {
   "cell_type": "markdown",
   "metadata": {},
   "source": [
    "##  Landcover data - Copernicus 2019\n",
    "Information can be found @ https://developers.google.com/earth-engine/datasets/catalog/COPERNICUS_Landcover_100m_Proba-V-C3_Global"
   ]
  },
  {
   "cell_type": "code",
   "execution_count": 12,
   "metadata": {},
   "outputs": [
    {
     "data": {
      "application/vnd.jupyter.widget-view+json": {
       "model_id": "3e5b424c3fb64906b5ba507649a5d4b9",
       "version_major": 2,
       "version_minor": 0
      },
      "text/plain": [
       "Map(center=[8.393461223691679, 39.07856249999964], controls=(WidgetControl(options=['position'], widget=HBox(c…"
      ]
     },
     "metadata": {},
     "output_type": "display_data"
    }
   ],
   "source": [
    "Map2 = geemap.Map()\n",
    "landcover = ee.Image(\"COPERNICUS/Landcover/100m/Proba-V-C3/Global/2019\").select('discrete_classification')\n",
    "# Specific palette set up for each level\n",
    "Map2.addLayer(landcover, {}, \"Land Cover\")\n",
    "Map2.add_legend(builtin_legend='COPERNICUS/Landcover/100m/Proba-V/Global')\n",
    "Map2.centerObject(ee_object=roi, zoom=12)\n",
    "Map2"
   ]
  },
  {
   "cell_type": "code",
   "execution_count": null,
   "metadata": {},
   "outputs": [],
   "source": []
  }
 ],
 "metadata": {
  "kernelspec": {
   "display_name": "Python 3",
   "language": "python",
   "name": "python3"
  },
  "language_info": {
   "codemirror_mode": {
    "name": "ipython",
    "version": 3
   },
   "file_extension": ".py",
   "mimetype": "text/x-python",
   "name": "python",
   "nbconvert_exporter": "python",
   "pygments_lexer": "ipython3",
   "version": "3.8.6"
  }
 },
 "nbformat": 4,
 "nbformat_minor": 4
}
